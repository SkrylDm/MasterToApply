{
 "cells": [
  {
   "cell_type": "code",
   "execution_count": 1,
   "metadata": {},
   "outputs": [],
   "source": [
    "import random\n",
    "import nltk\n",
    "import json \n",
    "import pickle\n",
    "from sklearn.feature_extraction.text import CountVectorizer, TfidfVectorizer\n",
    "from sklearn.linear_model import LogisticRegression \n",
    "from sklearn.ensemble import RandomForestClassifier\n",
    "from sklearn.model_selection import train_test_split \n"
   ]
  },
  {
   "cell_type": "code",
   "execution_count": 2,
   "metadata": {},
   "outputs": [],
   "source": [
    "def clean(text):\n",
    "  cleaned_text = ''\n",
    "  for char in text.lower():\n",
    "    if char in 'абвгдеёжзийклмнопрстуфхцчшщъыьэюя ':\n",
    "      cleaned_text = cleaned_text + char\n",
    "  return cleaned_text"
   ]
  },
  {
   "cell_type": "code",
   "execution_count": 4,
   "metadata": {},
   "outputs": [],
   "source": [
    "# BOT_CONFIG = {\n",
    "#     'intents': {\n",
    "#         'hello': {\n",
    "#             'examples': ['Приветики', 'Здравствуй!', 'Здарова', 'Привет'],\n",
    "#             'responses': ['Хай!!', 'Прив', 'Хэллоу']\n",
    "#         },\n",
    "#         'bye': {\n",
    "#             'examples': ['Пока', 'Сайонара', 'Покедова'],\n",
    "#             'responses': ['До свиданья', 'Увидимся', 'Пока-пока']\n",
    "#         },\n",
    "#         'howdoyoudo': {\n",
    "#             'examples': ['Как дела?', 'Как поживаешь?'],\n",
    "#             'responses': ['Классно!', 'Я живу в компьютере']\n",
    "#         },\n",
    "#     }\n",
    "# }"
   ]
  },
  {
   "cell_type": "code",
   "execution_count": 3,
   "metadata": {},
   "outputs": [
    {
     "data": {
      "text/plain": [
       "147"
      ]
     },
     "execution_count": 3,
     "metadata": {},
     "output_type": "execute_result"
    }
   ],
   "source": [
    "with open('CONFIG.json') as f:\n",
    "  BOT_CONFIG = json.load(f)\n",
    "len(BOT_CONFIG['intents']) # loading dataset"
   ]
  },
  {
   "cell_type": "code",
   "execution_count": 5,
   "metadata": {},
   "outputs": [
    {
     "data": {
      "text/plain": [
       "(559, 559)"
      ]
     },
     "execution_count": 5,
     "metadata": {},
     "output_type": "execute_result"
    }
   ],
   "source": [
    "corpus = []\n",
    "y = []\n",
    "for intent in BOT_CONFIG['intents'].keys():\n",
    "  for example in BOT_CONFIG['intents'][intent]['examples']:\n",
    "    corpus.append(example)\n",
    "    y.append(intent)\n",
    "len(corpus), len(y) # list of texts and its intents in right order"
   ]
  },
  {
   "cell_type": "code",
   "execution_count": 8,
   "metadata": {},
   "outputs": [],
   "source": [
    "corpus_train, corpus_test, y_train, y_test = train_test_split(corpus, y, test_size=0.2, random_state=42) # division data for testing"
   ]
  },
  {
   "cell_type": "code",
   "execution_count": null,
   "metadata": {},
   "outputs": [],
   "source": [
    "model = RandomForestClassifier(n_estimators=300) # LogisticRegression(max_iter=200)#\n",
    "model.fit(X_train, y_train) # учим модель на тренировочной части\n",
    "model.score(X_train, y_train), model.score(X_test, y_test) # оцениваем качество на тренировочной и на тестовой"
   ]
  },
  {
   "cell_type": "code",
   "execution_count": null,
   "metadata": {},
   "outputs": [],
   "source": [
    "def clean(text):\n",
    "  cleaned_text = ''\n",
    "  for char in text.lower():\n",
    "    if char in 'абвгдеёжзийклмнопрстуфхцчшщъыьэюя':\n",
    "      cleaned_text = cleaned_text + char\n",
    "  return cleaned_text\n",
    "\n",
    "# def get_intent(text):\n",
    "#   for intent in BOT_CONFIG['intents'].keys():\n",
    "#     for example in BOT_CONFIG['intents'][intent]['examples']:\n",
    "#       clean_example = clean(example)\n",
    "#       clean_text = clean(text)\n",
    "#       if nltk.edit_distance(clean_example, clean_text) / max(len(clean_example), len(clean_text)) < 0.4:\n",
    "#         return intent\n",
    "#   return 'intent not found'\n",
    "\n",
    "def get_intent_by_model(text):\n",
    "  return model.predict(vectorizer.transform([text]))[0]\n",
    "\n",
    "def bot(text):\n",
    "  # intent = get_intent(text)\n",
    "  # if intent == 'intent not found':\n",
    "  #   return 'Я ничего не понял :('\n",
    "  # else:\n",
    "  #   return random.choice(BOT_CONFIG['intents'][intent]['responses'])\n",
    "\n",
    "  intent = get_intent_by_model(text)\n",
    "  return random.choice(BOT_CONFIG['intents'][intent]['responses'])"
   ]
  },
  {
   "cell_type": "code",
   "execution_count": null,
   "metadata": {},
   "outputs": [],
   "source": [
    "while True:\n",
    "  text = input()\n",
    "  answer = bot(text)\n",
    "  print(answer)"
   ]
  }
 ],
 "metadata": {
  "kernelspec": {
   "display_name": "base",
   "language": "python",
   "name": "python3"
  },
  "language_info": {
   "codemirror_mode": {
    "name": "ipython",
    "version": 3
   },
   "file_extension": ".py",
   "mimetype": "text/x-python",
   "name": "python",
   "nbconvert_exporter": "python",
   "pygments_lexer": "ipython3",
   "version": "3.10.9"
  }
 },
 "nbformat": 4,
 "nbformat_minor": 2
}
