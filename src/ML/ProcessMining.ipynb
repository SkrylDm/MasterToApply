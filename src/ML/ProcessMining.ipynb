{
 "cells": [
  {
   "cell_type": "markdown",
   "id": "c242ca14",
   "metadata": {
    "toc": true
   },
   "source": [
    "<h1>Table of Contents<span class=\"tocSkip\"></span></h1>\n",
    "<div class=\"toc\"><ul class=\"toc-item\"><li><span><a href=\"#Первичный-осмотр-данных\" data-toc-modified-id=\"Первичный-осмотр-данных-1\"><span class=\"toc-item-num\">1&nbsp;&nbsp;</span>Первичный осмотр данных</a></span><ul class=\"toc-item\"><li><span><a href=\"#Описание-данных\" data-toc-modified-id=\"Описание-данных-1.1\"><span class=\"toc-item-num\">1.1&nbsp;&nbsp;</span>Описание данных</a></span></li><li><span><a href=\"#Загрузка-библиотек\" data-toc-modified-id=\"Загрузка-библиотек-1.2\"><span class=\"toc-item-num\">1.2&nbsp;&nbsp;</span>Загрузка библиотек</a></span></li><li><span><a href=\"#Загрузка-данных\" data-toc-modified-id=\"Загрузка-данных-1.3\"><span class=\"toc-item-num\">1.3&nbsp;&nbsp;</span>Загрузка данных</a></span></li><li><span><a href=\"#Знакомство-с-данными\" data-toc-modified-id=\"Знакомство-с-данными-1.4\"><span class=\"toc-item-num\">1.4&nbsp;&nbsp;</span>Знакомство с данными</a></span></li></ul></li><li><span><a href=\"#Найдём-высоконагруженные-“горячие”-объекты-хранилища-данных-и-спрогнозируем-потенциальный-рост-нагрузки.\" data-toc-modified-id=\"Найдём-высоконагруженные-“горячие”-объекты-хранилища-данных-и-спрогнозируем-потенциальный-рост-нагрузки.-2\"><span class=\"toc-item-num\">2&nbsp;&nbsp;</span>Найдём высоконагруженные “горячие” объекты хранилища данных и спрогнозируем потенциальный рост нагрузки.</a></span><ul class=\"toc-item\"><li><span><a href=\"#Найдём-таблицы,-в-которые-записываются-данные-(кем-угодно),-но-которые-не-читаются-разработчиками,-ранжировать-по-степени-«неиспользуемости»\" data-toc-modified-id=\"Найдём-таблицы,-в-которые-записываются-данные-(кем-угодно),-но-которые-не-читаются-разработчиками,-ранжировать-по-степени-«неиспользуемости»-2.1\"><span class=\"toc-item-num\">2.1&nbsp;&nbsp;</span>Найдём таблицы, в которые записываются данные (кем угодно), но которые не читаются разработчиками, ранжировать по степени «неиспользуемости»</a></span><ul class=\"toc-item\"><li><span><a href=\"#Вывод\" data-toc-modified-id=\"Вывод-2.1.1\"><span class=\"toc-item-num\">2.1.1&nbsp;&nbsp;</span>Вывод</a></span></li></ul></li><li><span><a href=\"#Поиск-тяжелых-объектов\" data-toc-modified-id=\"Поиск-тяжелых-объектов-2.2\"><span class=\"toc-item-num\">2.2&nbsp;&nbsp;</span>Поиск тяжелых объектов</a></span><ul class=\"toc-item\"><li><span><a href=\"#Вывод\" data-toc-modified-id=\"Вывод-2.2.1\"><span class=\"toc-item-num\">2.2.1&nbsp;&nbsp;</span>Вывод</a></span></li></ul></li><li><span><a href=\"#\" data-toc-modified-id=\"-2.3\"><span class=\"toc-item-num\">2.3&nbsp;&nbsp;</span></a></span><ul class=\"toc-item\"><li><span><a href=\"#Вывод\" data-toc-modified-id=\"Вывод-2.3.1\"><span class=\"toc-item-num\">2.3.1&nbsp;&nbsp;</span>Вывод</a></span></li></ul></li></ul></li><li><span><a href=\"#Чек-лист-готовности-проекта\" data-toc-modified-id=\"Чек-лист-готовности-проекта-3\"><span class=\"toc-item-num\">3&nbsp;&nbsp;</span>Чек-лист готовности проекта</a></span></li></ul></div>"
   ]
  },
  {
   "cell_type": "markdown",
   "id": "95e8200b",
   "metadata": {},
   "source": [
    "<a id='intro'></a>"
   ]
  },
  {
   "cell_type": "markdown",
   "id": "d707d21d",
   "metadata": {},
   "source": [
    "# Интеллектуальный анализ работы хранилища данных на основании обработки логов"
   ]
  },
  {
   "attachments": {},
   "cell_type": "markdown",
   "id": "c16aff86",
   "metadata": {},
   "source": [
    "**Наша задача - Найти высоконагруженные “горячие” объекты хранилища данных и спрогнозировать потенциальный рост нагрузки.**  \n",
    "\n",
    "**Описание задачи:**  \n",
    "\n",
    "- На основе предоставленных логов хранилища необходимо разработать алгоритм обработки данных и прогнозирования будущей нагрузки. Важно частью задачи является выявление и распределение объектов хранилища по различным критериям.     \n",
    "\n",
    "\n",
    "- В качестве исходных данных предоставлен набор логов, которые содержат запросы к базе данных. Нужно предложить метод быстрой обработки этих данных. Выделению отдельных объектов, к которым чаще всего обращаются пользователи. Выявления самых “тяжелыx” и самых “горячих” объектов. Прогнозирование нагрузки на систему в разные временные отрезки.    \n",
    "\n",
    "\n",
    "- Задача со звёздочкой: прогнозирования времени исполнения запроса по предоставленным данным.   \n",
    "\n",
    "**Технические требования:**  \n",
    "\n",
    "- Можно использовать только свободное ПО. Язык: Python или Java  \n",
    "\n",
    "**Критерии оценки:**  \n",
    "\n",
    "- Технические и инфраструктурные критерии:   \n",
    "\n",
    "  - Запускаемость  \n",
    "  - Скорость работы решения  \n",
    "  - Адаптируемость и масштабируемость  \n",
    "  - Качество кода   \n",
    "  \n",
    "  \n",
    "- Бизнес-критерии:\n",
    "\n",
    "  - Полезность   \n",
    "  - Применимость   \n",
    "  \n",
    "**Правила:**  \n",
    "\n",
    "- Для реализации проекта был создан репозиторий Gitlab.    \n",
    "- Нам следует авторизоваться по ссылке и доступам, указанным ниже.  "
   ]
  },
  {
   "cell_type": "markdown",
   "id": "d7b512ed",
   "metadata": {},
   "source": [
    "## Первичный осмотр данных"
   ]
  },
  {
   "cell_type": "markdown",
   "id": "0adea036",
   "metadata": {},
   "source": [
    "- Загрузить данные и изучить общую информацию, размер датасета;  \n",
    "- Убедимся, что тип данных в каждой колонке — правильный, а также отсутствуют пропущенные значения и дубликаты. При необходимости обработать их.    "
   ]
  },
  {
   "cell_type": "markdown",
   "id": "68f8d9ff",
   "metadata": {},
   "source": [
    "### Описание данных"
   ]
  },
  {
   "attachments": {},
   "cell_type": "markdown",
   "id": "4a0b8a70",
   "metadata": {},
   "source": [
    "Путь к файлу log_week_end: ***Здесь была ссылка на исходный датасет***  \n",
    "Путь к файлу log_week_2_end: ***Здесь была ссылка на исходный датасет***"
   ]
  },
  {
   "cell_type": "markdown",
   "id": "38782ed5",
   "metadata": {},
   "source": [
    "**Данные таблиц содержат в себя следующие поля:**  \n",
    "\n",
    "`Rn` – уникальный номер записи  \n",
    "`Loguser` – пользователь (dev_* - разработчики, etl_* - загрузчик)  \n",
    "`Query` – запрос в базу:  \n",
    "  - `from, join` - извлечение данных  \n",
    "  - `into` - запись данных  \n",
    "  \n",
    "`duration` - время, мс  \n"
   ]
  },
  {
   "cell_type": "markdown",
   "id": "7b3009aa",
   "metadata": {},
   "source": [
    "### Загрузка библиотек"
   ]
  },
  {
   "cell_type": "code",
   "execution_count": 1,
   "id": "6ec38954",
   "metadata": {},
   "outputs": [],
   "source": [
    "import pandas as pd                                         # для анализа данных\n",
    "import numpy as np                                          # для математических вычислений\n",
    "import math as mth                                          # для математических вычислений"
   ]
  },
  {
   "cell_type": "code",
   "execution_count": null,
   "id": "ed1b6788",
   "metadata": {},
   "outputs": [],
   "source": [
    "from urllib.parse import urlencode                          # преобразует объект сопоставления (словарь)\n",
    "                                                            # или последовательность кортежей,\n",
    "                                                            # состоящих из 2-х элементов в текстовую ASCII строку\n",
    "                                                            # с процентным кодированием. \n",
    "import requests                                             #  модуль Python, который можно\n",
    "                                                            # использовать для отправки всех видов HTTP-запросов \n",
    "import re"
   ]
  },
  {
   "cell_type": "code",
   "execution_count": 3,
   "id": "14300b43",
   "metadata": {},
   "outputs": [],
   "source": [
    "import matplotlib.pyplot as plt                             # для визуализации "
   ]
  },
  {
   "cell_type": "markdown",
   "id": "75ec409d",
   "metadata": {},
   "source": [
    "### Загрузка данных"
   ]
  },
  {
   "cell_type": "markdown",
   "id": "5c28ac4c",
   "metadata": {},
   "source": [
    "[К началу тетрадки](#intro)"
   ]
  },
  {
   "cell_type": "markdown",
   "id": "898368e2",
   "metadata": {},
   "source": [
    "Загружаем данные (без скачивания файлов):"
   ]
  },
  {
   "cell_type": "code",
   "execution_count": 4,
   "id": "d9418970",
   "metadata": {},
   "outputs": [],
   "source": [
    "base_url = 'https://cloud-api.yandex.net/v1/disk/public/resources/download?' # подключение к облаку через API\n",
    "public_key = ['здесь была ссылка на датасет', \n",
    "              'здесь была ссылка на датасет']                # ссылки на данные\n",
    "\n",
    "file_names = ['log_1.csv', \n",
    "             'log_2_end.csv']                           # имена файлов\n",
    "\n",
    "datasets = ['log', 'log_duration']\n",
    "\n",
    "for i in range(2):\n",
    "    # получаем загрузочную ссылку\n",
    "    final_url = base_url + urlencode(dict(public_key=public_key[i]))\n",
    "    response = requests.get(final_url)\n",
    "    download_url = response.json()['href']\n",
    "    \n",
    "    # загружаем данные по ссылкам\n",
    "    globals()[datasets[i]] = pd.read_csv(download_url)"
   ]
  },
  {
   "cell_type": "markdown",
   "id": "09c887c5",
   "metadata": {},
   "source": [
    "### Знакомство с данными"
   ]
  },
  {
   "cell_type": "markdown",
   "id": "efef856c",
   "metadata": {},
   "source": [
    "Посмотрим сколько число строк в наших данных:  "
   ]
  },
  {
   "cell_type": "code",
   "execution_count": 5,
   "id": "76fb9457",
   "metadata": {},
   "outputs": [
    {
     "name": "stdout",
     "output_type": "stream",
     "text": [
      "Число строк в log:   641138\n",
      "Число строк в log_duration:  630078\n"
     ]
    }
   ],
   "source": [
    "print('Число строк в log:  ', log.shape[0])\n",
    "print('Число строк в log_duration: ', log_duration.shape[0])"
   ]
  },
  {
   "cell_type": "markdown",
   "id": "4fdc55b9",
   "metadata": {},
   "source": [
    "Получим 10 случайно выбранных записей из таблицы log:"
   ]
  },
  {
   "cell_type": "code",
   "execution_count": null,
   "id": "98ea868a",
   "metadata": {},
   "outputs": [],
   "source": [
    "log.sample(10, random_state=123)"
   ]
  },
  {
   "cell_type": "markdown",
   "id": "ef741607",
   "metadata": {},
   "source": [
    "Получим 10 случайно выбранных записей из таблицы log_duration:"
   ]
  },
  {
   "cell_type": "code",
   "execution_count": null,
   "id": "b8b06e77",
   "metadata": {},
   "outputs": [],
   "source": [
    "log_duration.sample(10, random_state=123)"
   ]
  },
  {
   "cell_type": "markdown",
   "id": "23dc26fe",
   "metadata": {},
   "source": [
    "Посмотрим общую информацию датасета `log`:"
   ]
  },
  {
   "cell_type": "code",
   "execution_count": 8,
   "id": "e69fc7e5",
   "metadata": {},
   "outputs": [
    {
     "name": "stdout",
     "output_type": "stream",
     "text": [
      "<class 'pandas.core.frame.DataFrame'>\n",
      "RangeIndex: 641138 entries, 0 to 641137\n",
      "Data columns (total 3 columns):\n",
      " #   Column   Non-Null Count   Dtype \n",
      "---  ------   --------------   ----- \n",
      " 0   rn       641138 non-null  int64 \n",
      " 1   loguser  641138 non-null  object\n",
      " 2   query    641138 non-null  object\n",
      "dtypes: int64(1), object(2)\n",
      "memory usage: 14.7+ MB\n"
     ]
    }
   ],
   "source": [
    "log.info()"
   ]
  },
  {
   "cell_type": "markdown",
   "id": "33716abe",
   "metadata": {},
   "source": [
    " Мы видим, что в таблице 3 столбца и 641138 строк, пропуски отсутствуют.  "
   ]
  },
  {
   "cell_type": "markdown",
   "id": "0185d076",
   "metadata": {},
   "source": [
    "Посмотрим общую информацию датасета `log_duration`:"
   ]
  },
  {
   "cell_type": "code",
   "execution_count": 9,
   "id": "394e9661",
   "metadata": {},
   "outputs": [
    {
     "name": "stdout",
     "output_type": "stream",
     "text": [
      "<class 'pandas.core.frame.DataFrame'>\n",
      "RangeIndex: 630078 entries, 0 to 630077\n",
      "Data columns (total 4 columns):\n",
      " #   Column    Non-Null Count   Dtype \n",
      "---  ------    --------------   ----- \n",
      " 0   rn        630078 non-null  int64 \n",
      " 1   loguser   630078 non-null  object\n",
      " 2   query     630078 non-null  object\n",
      " 3   duration  557929 non-null  object\n",
      "dtypes: int64(1), object(3)\n",
      "memory usage: 19.2+ MB\n"
     ]
    }
   ],
   "source": [
    "log_duration.info()"
   ]
  },
  {
   "cell_type": "markdown",
   "id": "35e9ada8",
   "metadata": {},
   "source": [
    "Проверим сколько записей в этой колонке `duration` датасета `log_duration` отсутствует."
   ]
  },
  {
   "cell_type": "code",
   "execution_count": 10,
   "id": "8300cb78",
   "metadata": {},
   "outputs": [
    {
     "data": {
      "text/plain": [
       "72149"
      ]
     },
     "execution_count": 10,
     "metadata": {},
     "output_type": "execute_result"
    }
   ],
   "source": [
    "log_duration.duration.isna().sum()"
   ]
  },
  {
   "cell_type": "markdown",
   "id": "0d733f23",
   "metadata": {},
   "source": [
    "В таблице мы видим 4 столбца, 630078 строк, в столбце `duration`отсутствует 72149 записей.  "
   ]
  },
  {
   "cell_type": "markdown",
   "id": "f0634ba3",
   "metadata": {},
   "source": [
    "## Найдём высоконагруженные “горячие” объекты хранилища данных и спрогнозируем потенциальный рост нагрузки."
   ]
  },
  {
   "cell_type": "markdown",
   "id": "4ccfad3e",
   "metadata": {},
   "source": [
    "[К началу тетрадки](#intro)"
   ]
  },
  {
   "cell_type": "markdown",
   "id": "5c076f9b",
   "metadata": {},
   "source": [
    "Для реализации этой задачи, нам необходимо ответить на несколько вопросов или разбить на несколько подзадач:"
   ]
  },
  {
   "cell_type": "markdown",
   "id": "7ef77b32",
   "metadata": {},
   "source": [
    "### Найдём таблицы, в которые записываются данные (кем угодно), но которые не читаются разработчиками, ранжировать по степени «неиспользуемости»\n"
   ]
  },
  {
   "cell_type": "markdown",
   "id": "af3433af",
   "metadata": {},
   "source": [
    "Для решения этой задачи будем использовать данные, представленные в датафрейме `log`. Ещё раз посмотрим эту таблицу(первые 5 строк):"
   ]
  },
  {
   "cell_type": "code",
   "execution_count": null,
   "id": "e0d407a0",
   "metadata": {},
   "outputs": [],
   "source": [
    "log.head()"
   ]
  },
  {
   "cell_type": "markdown",
   "id": "bc6d63e7",
   "metadata": {},
   "source": [
    "Мы видим, что в столбце `query` используются утилиты разных регистров. Преобразуем данные  в столбце и приведём их к нижнему регистру:"
   ]
  },
  {
   "cell_type": "code",
   "execution_count": 12,
   "id": "2463ffc7",
   "metadata": {},
   "outputs": [],
   "source": [
    "log['query'] = log['query'].str.lower()"
   ]
  },
  {
   "cell_type": "markdown",
   "id": "3b7c3954",
   "metadata": {},
   "source": [
    "Найдем уникальные значения в столбце query:"
   ]
  },
  {
   "cell_type": "code",
   "execution_count": 13,
   "id": "560a7e9e",
   "metadata": {},
   "outputs": [
    {
     "data": {
      "text/plain": [
       "641138"
      ]
     },
     "execution_count": 13,
     "metadata": {},
     "output_type": "execute_result"
    }
   ],
   "source": [
    "log['query'].value_counts().sum()"
   ]
  },
  {
   "cell_type": "markdown",
   "id": "56df12ad",
   "metadata": {},
   "source": [
    "Мы видим что в столбце `query` 66735 уникальных строк."
   ]
  },
  {
   "cell_type": "markdown",
   "id": "3d7db285",
   "metadata": {},
   "source": [
    "Но в нашей задаче нужно найти данные, которые только записываются, т.к. за эту работу отвечает утилита из SQL -\"INTO', значит будем отбирать данные,где есть \"INTO\":"
   ]
  },
  {
   "cell_type": "code",
   "execution_count": 14,
   "id": "f769e450",
   "metadata": {},
   "outputs": [],
   "source": [
    "log_opt=log[log['query'].str.contains(\"into\", regex=False)] # добавляем regex=False, т.к с точки зрения производительности\n",
    "                                                            # поиск по регулярному выражению медленнее, чем поиск подстроки"
   ]
  },
  {
   "cell_type": "code",
   "execution_count": 15,
   "id": "fedd8707",
   "metadata": {},
   "outputs": [
    {
     "data": {
      "text/plain": [
       "190710"
      ]
     },
     "execution_count": 15,
     "metadata": {},
     "output_type": "execute_result"
    }
   ],
   "source": [
    "log_opt['query'].value_counts().sum()"
   ]
  },
  {
   "cell_type": "markdown",
   "id": "84f3d4d9",
   "metadata": {},
   "source": [
    "Мы отобрали данные, которые записываются в таблицу, у нас таких 190710 уникальных записей.Посмотрим их:"
   ]
  },
  {
   "cell_type": "code",
   "execution_count": null,
   "id": "4aca09bd",
   "metadata": {},
   "outputs": [],
   "source": [
    "log_opt['loguser'].value_counts()"
   ]
  },
  {
   "cell_type": "markdown",
   "id": "3de3824f",
   "metadata": {},
   "source": [
    "Но по условию задачи нам нужны данные, которые не учитываются разработчиками. В столбце `loguser`мы будем искать только данные, которые начинаются с \"etl_\"."
   ]
  },
  {
   "cell_type": "code",
   "execution_count": 17,
   "id": "57a63989",
   "metadata": {},
   "outputs": [],
   "source": [
    "log_opt=log_opt[log_opt['loguser'].str.contains(r'\\betl_')]"
   ]
  },
  {
   "cell_type": "code",
   "execution_count": 18,
   "id": "85771f69",
   "metadata": {},
   "outputs": [
    {
     "data": {
      "text/plain": [
       "166376"
      ]
     },
     "execution_count": 18,
     "metadata": {},
     "output_type": "execute_result"
    }
   ],
   "source": [
    "log_opt['loguser'].value_counts().sum()"
   ]
  },
  {
   "cell_type": "markdown",
   "id": "12459bcf",
   "metadata": {},
   "source": [
    "У нас получилось 166376 таких записей, которые не читаются разработчиками.Посмотрим их:"
   ]
  },
  {
   "cell_type": "code",
   "execution_count": null,
   "id": "a4ddbd2e",
   "metadata": {},
   "outputs": [],
   "source": [
    "log_opt['loguser'].value_counts()"
   ]
  },
  {
   "cell_type": "markdown",
   "id": "bdb14859",
   "metadata": {},
   "source": [
    "У нас получился датафрейм, который удовлетворяет условию задачи. Теперь нам нужно из столбца `query` вытащить все таблицы ( tbl_...):"
   ]
  },
  {
   "cell_type": "code",
   "execution_count": 21,
   "id": "1dd6f2e1",
   "metadata": {},
   "outputs": [],
   "source": [
    "log_opt['query']=log_opt['query'].apply(lambda x: x.replace('join', '').replace('from', '').replace('into', '').replace(' ', ''))\n",
    "log_tabl=log_opt['query'].reset_index() # работаем с одним столбцом\n",
    "log_tabl=log_tabl.assign(query=log_opt['query'].str.split(',')).explode('query') #разделяем строку, в качестве разделителя запятая\n",
    "log_tabl = log_tabl[log_tabl['query'].notna()] # удаляем строки с Nan"
   ]
  },
  {
   "cell_type": "markdown",
   "id": "46545c99",
   "metadata": {},
   "source": [
    "Посмотрим что получилось  и ранжируем их по убыванию:"
   ]
  },
  {
   "cell_type": "code",
   "execution_count": null,
   "id": "609c0071",
   "metadata": {},
   "outputs": [],
   "source": [
    "log_tabl['query'].value_counts()"
   ]
  },
  {
   "cell_type": "markdown",
   "id": "697bc79e",
   "metadata": {},
   "source": [
    "Найдём общее количество запросов к таблицам:"
   ]
  },
  {
   "cell_type": "code",
   "execution_count": 23,
   "id": "027cf207",
   "metadata": {},
   "outputs": [
    {
     "data": {
      "text/plain": [
       "228540"
      ]
     },
     "execution_count": 23,
     "metadata": {},
     "output_type": "execute_result"
    }
   ],
   "source": [
    "log_tabl['query'].value_counts().sum()"
   ]
  },
  {
   "cell_type": "markdown",
   "id": "1d42ae51",
   "metadata": {},
   "source": [
    "У нас получилось 228540 различных запросов к уникальным таблицам, которые не читаются разработчиками."
   ]
  },
  {
   "cell_type": "markdown",
   "id": "2b8f1b1f",
   "metadata": {},
   "source": [
    "Посмотрим список самых  нечитаемых разработчиками таблиц:"
   ]
  },
  {
   "cell_type": "code",
   "execution_count": null,
   "id": "06ba7b58",
   "metadata": {},
   "outputs": [],
   "source": [
    "display(log_tabl['query'].value_counts().head(10))"
   ]
  },
  {
   "cell_type": "markdown",
   "id": "2bc8b518",
   "metadata": {},
   "source": [
    "Посмотрим структуру в процентах:"
   ]
  },
  {
   "cell_type": "code",
   "execution_count": null,
   "id": "c22a0cd6",
   "metadata": {},
   "outputs": [],
   "source": [
    "display(log_tabl['query'].value_counts(normalize=True).head(10))"
   ]
  },
  {
   "cell_type": "markdown",
   "id": "eb3ef22a",
   "metadata": {},
   "source": [
    "Найдём количество уникальных таблиц,в которые записываются данные кем угодно,но не читаются разработчиками:"
   ]
  },
  {
   "cell_type": "code",
   "execution_count": 26,
   "id": "fc67fc56",
   "metadata": {},
   "outputs": [
    {
     "data": {
      "text/plain": [
       "28371"
      ]
     },
     "execution_count": 26,
     "metadata": {},
     "output_type": "execute_result"
    }
   ],
   "source": [
    "log_tabl['query'].nunique()"
   ]
  },
  {
   "cell_type": "markdown",
   "id": "c786ec7d",
   "metadata": {},
   "source": [
    "Общее количество уникальных таблиц, в которые записываются данные, но не читаются разработчиками составляет 28371 ед."
   ]
  },
  {
   "cell_type": "markdown",
   "id": "55c12f29",
   "metadata": {},
   "source": [
    "#### Вывод"
   ]
  },
  {
   "attachments": {},
   "cell_type": "markdown",
   "id": "957c5f8c",
   "metadata": {},
   "source": [
    "**В нашем исследовании мы получили следующие результаты :**  \n",
    "\n",
    "- Общее количество уникальных таблиц, в которые записываются данные (кем угодно), но не читаются разработчиками составляет 28371 ед.  \n",
    "\n",
    "- Общее количество запросов к таблицам составило 228540 запросов   \n",
    "\n",
    "- Самыми высоконагруженными “горячими” объектами хранилища данных, в которые записываются данные кем угодно, но не читаются разработчиками стала тройка лидеров, таблицы:   \n",
    "  \n",
    "    - tbl_27132 (2288 запросов или 1%)\n",
    "    - tbl_11114 (1873 запросов или 0,8%)\n",
    "    - tbl_23507 (1873 запросов или 0,8%)"
   ]
  },
  {
   "cell_type": "markdown",
   "id": "d0e36016",
   "metadata": {},
   "source": [
    "### Поиск тяжелых объектов"
   ]
  },
  {
   "cell_type": "code",
   "execution_count": 28,
   "id": "9c15acf1",
   "metadata": {},
   "outputs": [
    {
     "name": "stdout",
     "output_type": "stream",
     "text": [
      "<class 'pandas.core.frame.DataFrame'>\n",
      "Int64Index: 556590 entries, 0 to 630077\n",
      "Data columns (total 5 columns):\n",
      " #   Column    Non-Null Count   Dtype  \n",
      "---  ------    --------------   -----  \n",
      " 0   rn        556590 non-null  int64  \n",
      " 1   loguser   556590 non-null  object \n",
      " 2   query     556590 non-null  object \n",
      " 3   duration  556590 non-null  float64\n",
      " 4   tbls      556590 non-null  int64  \n",
      "dtypes: float64(1), int64(2), object(2)\n",
      "memory usage: 25.5+ MB\n"
     ]
    }
   ],
   "source": [
    "#избавимся от пропусков и дубликатов\n",
    "df=log_duration.dropna().drop_duplicates(subset=['loguser','query','duration']) \n",
    "#Поправим duration чтобы там содержалось количество милисекунд тип float\n",
    "df['duration']=df.duration.str.split().str[1] \n",
    "df['duration']=df['duration'].astype('float') \n",
    "#к нижнему регистру query\n",
    "df['query']=df['query'].str.lower()\n",
    "#добавим столбец в котором количество таблиц в запросе\n",
    "df['tbls']=df['query'].str.count(',')+1\n",
    "pd.options.display.float_format = '{:,.3f}'.format\n",
    "df.info()"
   ]
  },
  {
   "cell_type": "code",
   "execution_count": 32,
   "id": "dc898171",
   "metadata": {},
   "outputs": [
    {
     "data": {
      "text/html": [
       "<div>\n",
       "<style scoped>\n",
       "    .dataframe tbody tr th:only-of-type {\n",
       "        vertical-align: middle;\n",
       "    }\n",
       "\n",
       "    .dataframe tbody tr th {\n",
       "        vertical-align: top;\n",
       "    }\n",
       "\n",
       "    .dataframe thead th {\n",
       "        text-align: right;\n",
       "    }\n",
       "</style>\n",
       "<table border=\"1\" class=\"dataframe\">\n",
       "  <thead>\n",
       "    <tr style=\"text-align: right;\">\n",
       "      <th></th>\n",
       "      <th>tbls</th>\n",
       "      <th>%</th>\n",
       "    </tr>\n",
       "  </thead>\n",
       "  <tbody>\n",
       "    <tr>\n",
       "      <th>1</th>\n",
       "      <td>357402</td>\n",
       "      <td>64.21%</td>\n",
       "    </tr>\n",
       "    <tr>\n",
       "      <th>2</th>\n",
       "      <td>111585</td>\n",
       "      <td>20.05%</td>\n",
       "    </tr>\n",
       "    <tr>\n",
       "      <th>3</th>\n",
       "      <td>84805</td>\n",
       "      <td>15.24%</td>\n",
       "    </tr>\n",
       "    <tr>\n",
       "      <th>4</th>\n",
       "      <td>822</td>\n",
       "      <td>0.15%</td>\n",
       "    </tr>\n",
       "    <tr>\n",
       "      <th>6</th>\n",
       "      <td>573</td>\n",
       "      <td>0.10%</td>\n",
       "    </tr>\n",
       "  </tbody>\n",
       "</table>\n",
       "</div>"
      ],
      "text/plain": [
       "     tbls      %\n",
       "1  357402 64.21%\n",
       "2  111585 20.05%\n",
       "3   84805 15.24%\n",
       "4     822  0.15%\n",
       "6     573  0.10%"
      ]
     },
     "metadata": {},
     "output_type": "display_data"
    }
   ],
   "source": [
    "with pd.option_context('display.float_format', '{:0.2%}'.format):\n",
    "    display(df.tbls.value_counts().to_frame().join(df.tbls.value_counts(normalize=True).rename('%')).head())"
   ]
  },
  {
   "cell_type": "markdown",
   "id": "39169576",
   "metadata": {},
   "source": [
    "более 64% запросов содержат обращение только к одному объекту.\n",
    "Посмотрим какие из них выполнялись дольше всего"
   ]
  },
  {
   "cell_type": "code",
   "execution_count": null,
   "id": "f7a2e23f",
   "metadata": {},
   "outputs": [],
   "source": [
    "t1=df.query('tbls==1').groupby('query').agg({'duration':['min','mean','median','max','count']}).sort_values(\n",
    "        by=('duration','median'),ascending=False)\n",
    "t1.head(10)"
   ]
  },
  {
   "cell_type": "markdown",
   "id": "586a9a9d",
   "metadata": {},
   "source": [
    "Посмотрим к каким объектам обращались чаще всего"
   ]
  },
  {
   "cell_type": "code",
   "execution_count": null,
   "id": "9882a449",
   "metadata": {},
   "outputs": [],
   "source": [
    "t1.sort_values(by='count',ascending=False).head(10)"
   ]
  },
  {
   "attachments": {},
   "cell_type": "markdown",
   "id": "6f9a290f",
   "metadata": {},
   "source": [
    "Из таблицы видно что время выполнения запросов очень сильно варьируются. Рассмотрим выполнение запроса \"from tbl_42632\" (2 место в таблице выше)"
   ]
  },
  {
   "cell_type": "code",
   "execution_count": 72,
   "id": "d95240eb",
   "metadata": {},
   "outputs": [
    {
     "data": {
      "image/png": "[encoded data removed]",
      "text/plain": [
       "<Figure size 640x480 with 1 Axes>"
      ]
     },
     "metadata": {},
     "output_type": "display_data"
    },
    {
     "data": {
      "image/png": "[encoded data removed]",
      "text/plain": [
       "<Figure size 640x480 with 1 Axes>"
      ]
     },
     "metadata": {},
     "output_type": "display_data"
    }
   ],
   "source": [
    "import seaborn as sns\n",
    "import matplotlib.pyplot as plt\n",
    "sns.histplot(df.query('query==\"from tbl_42632\"').duration,bins=200)\n",
    "plt.title(\"Гистограмма времени выполнения запроса from tbl_42632\")\n",
    "plt.show()\n",
    "sns.histplot(df.query('query==\"from tbl_42632\" and duration>1000').duration,bins=200)\n",
    "plt.title(\"Гистограмма времени выполнения запроса from tbl_42632\");"
   ]
  },
  {
   "cell_type": "markdown",
   "id": "e7c905ef",
   "metadata": {},
   "source": [
    "Выясним какие запросы больше всего загружали систему "
   ]
  },
  {
   "cell_type": "code",
   "execution_count": null,
   "id": "324822af",
   "metadata": {},
   "outputs": [],
   "source": [
    "df.groupby('query').agg({'duration':['min','mean','median','max','count','sum']}).sort_values(\n",
    "        by=('duration','sum'),ascending=False).head(10)"
   ]
  },
  {
   "cell_type": "code",
   "execution_count": 56,
   "id": "46e99850",
   "metadata": {},
   "outputs": [],
   "source": [
    "t = df.copy()\n",
    "t['query'] = t['query'].apply(lambda x: x.replace('join', '').replace('from', '').replace('into', '').replace(' ', ''))\n",
    "t['query'] = t['query'].str.split(',')\n",
    "t['dur_tbl'] = t['duration'] / t['tbls']\n",
    "t = t.explode('query')\n",
    "# log_tabl=log_opt['query'].reset_index() # работаем с одним столбцом\n",
    "# log_tabl=log_tabl.assign(query=log_opt['query'].str.split(',')).explode('query') #разделяем строку, в качестве разделителя запятая\n",
    "# log_tabl = log_tabl[log_tabl['query'].notna()] # удаляем строки с Nan"
   ]
  },
  {
   "cell_type": "code",
   "execution_count": null,
   "id": "95b1abbb",
   "metadata": {},
   "outputs": [],
   "source": [
    "t"
   ]
  },
  {
   "cell_type": "code",
   "execution_count": null,
   "id": "5194458d",
   "metadata": {},
   "outputs": [],
   "source": [
    "table2=t.groupby('query').agg({'dur_tbl':['mean','sum','count']}).sort_values(by=('dur_tbl','count'),ascending=False)\n",
    "table2.columns=['mean','sum','count']\n",
    "table2.head(10)"
   ]
  },
  {
   "cell_type": "markdown",
   "id": "0861e552",
   "metadata": {},
   "source": [
    "Топ-10 объектов по суммарному времени выполнения"
   ]
  },
  {
   "cell_type": "code",
   "execution_count": null,
   "id": "4fed0935",
   "metadata": {},
   "outputs": [],
   "source": [
    "table2.sort_values(by=('sum'),ascending=False).head(10)"
   ]
  },
  {
   "cell_type": "markdown",
   "id": "7547f21d",
   "metadata": {},
   "source": [
    "Топ-10 объектов по среднему времени выполнения"
   ]
  },
  {
   "cell_type": "code",
   "execution_count": null,
   "id": "cf6bcc8a",
   "metadata": {},
   "outputs": [],
   "source": [
    "table2.sort_values(by=('mean'),ascending=False).head(10)"
   ]
  },
  {
   "cell_type": "markdown",
   "id": "2dc508a8",
   "metadata": {},
   "source": [
    "#### Вывод"
   ]
  },
  {
   "attachments": {},
   "cell_type": "markdown",
   "id": "e104e764",
   "metadata": {},
   "source": [
    "самые горячие объекты из log_duration : \n",
    "tbl_1207,tbl_14212,tbl_34355\n",
    "Самый горячий запрос: \"from tbl_7457,from tbl_41022\"\n",
    "Самые тяжелые объекты: tbl_64396 и tbl_3653121\n",
    "Больше всего грузили систему запросы: \"from tbl_7543,from tbl_12222\" и \"from tbl_39431\"\n",
    "\n"
   ]
  },
  {
   "cell_type": "markdown",
   "id": "c7ccf8c1",
   "metadata": {},
   "source": [
    "### "
   ]
  },
  {
   "cell_type": "code",
   "execution_count": null,
   "id": "b607a25f",
   "metadata": {},
   "outputs": [],
   "source": []
  },
  {
   "cell_type": "markdown",
   "id": "d7910515",
   "metadata": {},
   "source": [
    "#### Вывод"
   ]
  },
  {
   "cell_type": "markdown",
   "id": "f14be100",
   "metadata": {},
   "source": []
  },
  {
   "cell_type": "markdown",
   "id": "8070f107",
   "metadata": {},
   "source": [
    "## Чек-лист готовности проекта"
   ]
  },
  {
   "cell_type": "markdown",
   "id": "89c1aa2b",
   "metadata": {},
   "source": [
    "[К началу тетрадки](#intro)"
   ]
  },
  {
   "cell_type": "markdown",
   "id": "8c1040a4",
   "metadata": {},
   "source": [
    "- [x]  описаны данные\n",
    "- [x]  загружены библиотеки\n",
    "- [x]  загружены данные\n",
    "- [x]  проведено знакомство с данными\n",
    "- [x]  найдены таблицы, в которые записываются данные (кем угодно), но которые не читаются разработчиками, ранжированы по степени «неиспользуемости»\n",
    "- [x]    \n",
    "- [x]     \n",
    "- [x]    \n",
    "- [x]  \n",
    "- [x]  \n",
    "- [x]  \n",
    "- [x]  \n",
    "- [x]   \n",
    "- [x]  \n",
    "- [x]  сделаны промежуточные выводы, сделан общий вывод \n"
   ]
  }
 ],
 "metadata": {
  "kernelspec": {
   "display_name": "Python 3 (ipykernel)",
   "language": "python",
   "name": "python3"
  },
  "language_info": {
   "codemirror_mode": {
    "name": "ipython",
    "version": 3
   },
   "file_extension": ".py",
   "mimetype": "text/x-python",
   "name": "python",
   "nbconvert_exporter": "python",
   "pygments_lexer": "ipython3",
   "version": "3.9.12"
  },
  "toc": {
   "base_numbering": 1,
   "nav_menu": {},
   "number_sections": true,
   "sideBar": true,
   "skip_h1_title": true,
   "title_cell": "Table of Contents",
   "title_sidebar": "Contents",
   "toc_cell": true,
   "toc_position": {},
   "toc_section_display": true,
   "toc_window_display": true
  }
 },
 "nbformat": 4,
 "nbformat_minor": 5
}
